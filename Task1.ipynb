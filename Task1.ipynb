{
  "nbformat": 4,
  "nbformat_minor": 0,
  "metadata": {
    "colab": {
      "provenance": [],
      "authorship_tag": "ABX9TyMiGRPGtD6mtZJzMBIB7DSk",
      "include_colab_link": true
    },
    "kernelspec": {
      "name": "python3",
      "display_name": "Python 3"
    },
    "language_info": {
      "name": "python"
    }
  },
  "cells": [
    {
      "cell_type": "markdown",
      "metadata": {
        "id": "view-in-github",
        "colab_type": "text"
      },
      "source": [
        "<a href=\"https://colab.research.google.com/github/Yash0082/IGurus/blob/main/Task1.ipynb\" target=\"_parent\"><img src=\"https://colab.research.google.com/assets/colab-badge.svg\" alt=\"Open In Colab\"/></a>"
      ]
    },
    {
      "cell_type": "markdown",
      "source": [
        "## Python Strings\n",
        " Yash Adagale\n"
      ],
      "metadata": {
        "id": "tC080nvimTqN"
      }
    },
    {
      "cell_type": "code",
      "source": [
        "name = 'Yash' # Creating string with single quote\n",
        "print(name)"
      ],
      "metadata": {
        "colab": {
          "base_uri": "https://localhost:8080/"
        },
        "id": "n8lMzPormX8f",
        "outputId": "bc1db1a0-d395-403e-c062-e3323c895a3b"
      },
      "execution_count": null,
      "outputs": [
        {
          "output_type": "stream",
          "name": "stdout",
          "text": [
            "Yash\n"
          ]
        }
      ]
    },
    {
      "cell_type": "code",
      "source": [
        "message =\"Hello World!\" # Creating String with double quotes\n",
        "print(message)"
      ],
      "metadata": {
        "colab": {
          "base_uri": "https://localhost:8080/"
        },
        "id": "FNIaSD62mmAM",
        "outputId": "2d59aa95-c85d-4a0b-8bde-d39c47616035"
      },
      "execution_count": null,
      "outputs": [
        {
          "output_type": "stream",
          "name": "stdout",
          "text": [
            "Hello World!\n"
          ]
        }
      ]
    },
    {
      "cell_type": "markdown",
      "source": [
        "### Accessing String Characters in Python"
      ],
      "metadata": {
        "id": "kodUGLDOnAGK"
      }
    },
    {
      "cell_type": "markdown",
      "source": [
        "#### Indexing"
      ],
      "metadata": {
        "id": "aUMnqftQnLaK"
      }
    },
    {
      "cell_type": "code",
      "source": [
        "greet = \"Hello\"\n",
        "print(greet[0])"
      ],
      "metadata": {
        "colab": {
          "base_uri": "https://localhost:8080/"
        },
        "id": "w69yoZ-5mz0h",
        "outputId": "7e9b70e8-9cef-4e88-b1d7-82c4032130b1"
      },
      "execution_count": null,
      "outputs": [
        {
          "output_type": "stream",
          "name": "stdout",
          "text": [
            "H\n"
          ]
        }
      ]
    },
    {
      "cell_type": "markdown",
      "source": [
        "#### Negative Indexing"
      ],
      "metadata": {
        "id": "Xow38yMinf21"
      }
    },
    {
      "cell_type": "code",
      "source": [
        "print(greet[-1])"
      ],
      "metadata": {
        "colab": {
          "base_uri": "https://localhost:8080/"
        },
        "id": "ZoUVYjyLnb3d",
        "outputId": "803679f5-30e8-4dfe-9054-45b83da23f47"
      },
      "execution_count": null,
      "outputs": [
        {
          "output_type": "stream",
          "name": "stdout",
          "text": [
            "o\n"
          ]
        }
      ]
    },
    {
      "cell_type": "markdown",
      "source": [
        "#### Slicing"
      ],
      "metadata": {
        "id": "yknPcU27nvKf"
      }
    },
    {
      "cell_type": "code",
      "source": [
        "print(greet[:3])"
      ],
      "metadata": {
        "colab": {
          "base_uri": "https://localhost:8080/"
        },
        "id": "STmpycdfno_i",
        "outputId": "8ad5a9b8-49b0-4d36-bc1e-1d3a62038752"
      },
      "execution_count": null,
      "outputs": [
        {
          "output_type": "stream",
          "name": "stdout",
          "text": [
            "Hel\n"
          ]
        }
      ]
    },
    {
      "cell_type": "markdown",
      "source": [
        "### Python String are Immutable"
      ],
      "metadata": {
        "id": "Db3znkXMn-4h"
      }
    },
    {
      "cell_type": "code",
      "source": [
        "message = \"Hello Pune\"\n",
        "message[0] = \"H\" # cant be updated after the initialization\n",
        "print(message)"
      ],
      "metadata": {
        "colab": {
          "base_uri": "https://localhost:8080/",
          "height": 210
        },
        "id": "7Z09FD2on2PK",
        "outputId": "80146ec7-37cb-4a36-8d0a-f6044baf4952"
      },
      "execution_count": null,
      "outputs": [
        {
          "output_type": "error",
          "ename": "TypeError",
          "evalue": "ignored",
          "traceback": [
            "\u001b[0;31m---------------------------------------------------------------------------\u001b[0m",
            "\u001b[0;31mTypeError\u001b[0m                                 Traceback (most recent call last)",
            "\u001b[0;32m<ipython-input-10-c76db0f00200>\u001b[0m in \u001b[0;36m<cell line: 2>\u001b[0;34m()\u001b[0m\n\u001b[1;32m      1\u001b[0m \u001b[0mmessage\u001b[0m \u001b[0;34m=\u001b[0m \u001b[0;34m\"Hello Pune\"\u001b[0m\u001b[0;34m\u001b[0m\u001b[0;34m\u001b[0m\u001b[0m\n\u001b[0;32m----> 2\u001b[0;31m \u001b[0mmessage\u001b[0m\u001b[0;34m[\u001b[0m\u001b[0;36m0\u001b[0m\u001b[0;34m]\u001b[0m \u001b[0;34m=\u001b[0m \u001b[0;34m\"H\"\u001b[0m\u001b[0;34m\u001b[0m\u001b[0;34m\u001b[0m\u001b[0m\n\u001b[0m\u001b[1;32m      3\u001b[0m \u001b[0mprint\u001b[0m\u001b[0;34m(\u001b[0m\u001b[0mmessage\u001b[0m\u001b[0;34m)\u001b[0m\u001b[0;34m\u001b[0m\u001b[0;34m\u001b[0m\u001b[0m\n",
            "\u001b[0;31mTypeError\u001b[0m: 'str' object does not support item assignment"
          ]
        }
      ]
    },
    {
      "cell_type": "code",
      "source": [
        "message = \"Hello Pune\"\n",
        "message = \"hello world\" # but we can assign the same name for the new variable and it will print the lastly initialized string only\n",
        "print(message)"
      ],
      "metadata": {
        "colab": {
          "base_uri": "https://localhost:8080/"
        },
        "id": "gBg2D47XoaQ_",
        "outputId": "81ca5c61-8eaf-4d50-f93a-5ca4538bd6bc"
      },
      "execution_count": null,
      "outputs": [
        {
          "output_type": "stream",
          "name": "stdout",
          "text": [
            "hello world\n"
          ]
        }
      ]
    },
    {
      "cell_type": "markdown",
      "source": [
        "### Python Multiline String"
      ],
      "metadata": {
        "id": "fNnxEmHNpGBq"
      }
    },
    {
      "cell_type": "code",
      "source": [
        "message = \"\"\"\n",
        "we can use triple double quotes or\n",
        "triple single quotes for multiline strings\"\"\"\n",
        "print(message)"
      ],
      "metadata": {
        "colab": {
          "base_uri": "https://localhost:8080/"
        },
        "id": "lhlEZwpypArS",
        "outputId": "36abb3c4-dad6-4ffb-d834-87b1db3e2e5c"
      },
      "execution_count": null,
      "outputs": [
        {
          "output_type": "stream",
          "name": "stdout",
          "text": [
            " \n",
            "we can use triple double quotes or\n",
            "triple single quotes for multiline strings\n"
          ]
        }
      ]
    },
    {
      "cell_type": "markdown",
      "source": [
        "### Python String Operation"
      ],
      "metadata": {
        "id": "yS7WZh0Pp4qy"
      }
    },
    {
      "cell_type": "markdown",
      "source": [
        "#### Comparing the 2 strings"
      ],
      "metadata": {
        "id": "cEivXO3mqCbC"
      }
    },
    {
      "cell_type": "code",
      "source": [
        "a = \"Hello World\"\n",
        "b = \"Konichiwa\"\n",
        "c = \"Hello World\"\n",
        "\n",
        "print(a==b)\n",
        "\n",
        "print(a==c)"
      ],
      "metadata": {
        "colab": {
          "base_uri": "https://localhost:8080/"
        },
        "id": "nxb4ziTVprii",
        "outputId": "72e1870c-ea02-4f53-a480-953d5a6a5831"
      },
      "execution_count": null,
      "outputs": [
        {
          "output_type": "stream",
          "name": "stdout",
          "text": [
            "False\n",
            "True\n"
          ]
        }
      ]
    },
    {
      "cell_type": "markdown",
      "source": [
        "#### Join 2 or more string"
      ],
      "metadata": {
        "id": "c6Ez_3WvqkxY"
      }
    },
    {
      "cell_type": "code",
      "source": [
        "greet = \"Hello, \"\n",
        "name = \"Yash\"\n",
        "res = greet + name\n",
        "print(res)"
      ],
      "metadata": {
        "colab": {
          "base_uri": "https://localhost:8080/"
        },
        "id": "MRz0qmjSqeGY",
        "outputId": "40fdeaed-65ac-4430-f312-f6e6618fe6c2"
      },
      "execution_count": null,
      "outputs": [
        {
          "output_type": "stream",
          "name": "stdout",
          "text": [
            "Hello, Yash\n"
          ]
        }
      ]
    },
    {
      "cell_type": "markdown",
      "source": [
        "#### Iterate through string"
      ],
      "metadata": {
        "id": "mtQ_h8WWrZc7"
      }
    },
    {
      "cell_type": "code",
      "source": [
        "for i in res: # where 'i' is the letter\n",
        "  print(i)"
      ],
      "metadata": {
        "colab": {
          "base_uri": "https://localhost:8080/"
        },
        "id": "so4Z0IIfq6xb",
        "outputId": "61525c4b-1f56-4556-e51f-6ac9e9b28f50"
      },
      "execution_count": null,
      "outputs": [
        {
          "output_type": "stream",
          "name": "stdout",
          "text": [
            "H\n",
            "e\n",
            "l\n",
            "l\n",
            "o\n",
            ",\n",
            " \n",
            "Y\n",
            "a\n",
            "s\n",
            "h\n"
          ]
        }
      ]
    },
    {
      "cell_type": "markdown",
      "source": [
        "### String Length"
      ],
      "metadata": {
        "id": "4XfxZqKgsMBm"
      }
    },
    {
      "cell_type": "code",
      "source": [
        "greet = \"Hello World\"\n",
        "print(len(greet))"
      ],
      "metadata": {
        "colab": {
          "base_uri": "https://localhost:8080/"
        },
        "id": "YQNx92-drjLo",
        "outputId": "ef9fb91b-6dc3-4947-ff95-4943642e0f8f"
      },
      "execution_count": null,
      "outputs": [
        {
          "output_type": "stream",
          "name": "stdout",
          "text": [
            "11\n"
          ]
        }
      ]
    },
    {
      "cell_type": "markdown",
      "source": [
        "### Membership Test"
      ],
      "metadata": {
        "id": "4-PAiWnbsvDs"
      }
    },
    {
      "cell_type": "code",
      "source": [
        "print(\"ll\" in greet)\n",
        "print(\"ed\" in greet)"
      ],
      "metadata": {
        "colab": {
          "base_uri": "https://localhost:8080/"
        },
        "id": "8gzmzlSDshV6",
        "outputId": "cfbe3264-97f2-4534-f01f-699657933bf3"
      },
      "execution_count": null,
      "outputs": [
        {
          "output_type": "stream",
          "name": "stdout",
          "text": [
            "True\n",
            "False\n"
          ]
        }
      ]
    },
    {
      "cell_type": "markdown",
      "source": [
        "## Methods in Python Strings"
      ],
      "metadata": {
        "id": "2etXZF6gtNnV"
      }
    },
    {
      "cell_type": "markdown",
      "source": [
        "##### upper() - converts the string in caps"
      ],
      "metadata": {
        "id": "TIS_G3c9uWSR"
      }
    },
    {
      "cell_type": "code",
      "source": [
        "a = \"CoLabOratory\"\n",
        "print(a.upper())"
      ],
      "metadata": {
        "colab": {
          "base_uri": "https://localhost:8080/"
        },
        "id": "6u6DJckHstb_",
        "outputId": "73b7cc1d-2890-40f2-cd4c-776ac9c32700"
      },
      "execution_count": null,
      "outputs": [
        {
          "output_type": "stream",
          "name": "stdout",
          "text": [
            "COLABORATORY\n"
          ]
        }
      ]
    },
    {
      "cell_type": "markdown",
      "source": [],
      "metadata": {
        "id": "Le-jtuZn3nMK"
      }
    },
    {
      "cell_type": "markdown",
      "source": [
        "##### lower() - converts the string in lowercase"
      ],
      "metadata": {
        "id": "SqisALktudbF"
      }
    },
    {
      "cell_type": "code",
      "source": [
        "print(a)\n",
        "print(a.lower())"
      ],
      "metadata": {
        "colab": {
          "base_uri": "https://localhost:8080/"
        },
        "id": "JKWYLvCltzKZ",
        "outputId": "4287cd66-c16d-4d65-acdb-04db5deb9a52"
      },
      "execution_count": null,
      "outputs": [
        {
          "output_type": "stream",
          "name": "stdout",
          "text": [
            "CoLabOratory\n",
            "colaboratory\n"
          ]
        }
      ]
    },
    {
      "cell_type": "markdown",
      "source": [
        "##### partition(x) - returns the string in tuple format and splits at first occurence of x"
      ],
      "metadata": {
        "id": "tRXKGpo8vDZS"
      }
    },
    {
      "cell_type": "code",
      "source": [
        "print(a.partition(\"o\"))\n",
        "print(a.partition(\"B\")) # bcoz there is no caps B in CoLabOratory"
      ],
      "metadata": {
        "colab": {
          "base_uri": "https://localhost:8080/"
        },
        "id": "7vhH5DzEuOim",
        "outputId": "9b76414e-4885-4049-c822-fdb758f6d71b"
      },
      "execution_count": null,
      "outputs": [
        {
          "output_type": "stream",
          "name": "stdout",
          "text": [
            "('C', 'o', 'LabOratory')\n",
            "('CoLabOratory', '', '')\n"
          ]
        }
      ]
    },
    {
      "cell_type": "markdown",
      "source": [
        "##### replace('x', 'y') - replaces x with y with string where x and y are substring"
      ],
      "metadata": {
        "id": "_EBTbFUnv5r1"
      }
    },
    {
      "cell_type": "code",
      "source": [
        "text = \"She is young\"\n",
        "print(text)\n",
        "text = text.replace(\"is\",\"was\")\n",
        "print(text)"
      ],
      "metadata": {
        "colab": {
          "base_uri": "https://localhost:8080/"
        },
        "id": "h-ufcTWTuqTb",
        "outputId": "3376d1f4-568b-4920-8f67-d70b6bd6edb0"
      },
      "execution_count": null,
      "outputs": [
        {
          "output_type": "stream",
          "name": "stdout",
          "text": [
            "She is young\n",
            "She was young\n"
          ]
        }
      ]
    },
    {
      "cell_type": "markdown",
      "source": [
        "##### find(x) - returns the index of the x's first occurence"
      ],
      "metadata": {
        "id": "piG-BihAyrAx"
      }
    },
    {
      "cell_type": "code",
      "source": [
        "print(text.find(\"yo\")) # returns the index of y only\n",
        "print(text.find(\"y\"))"
      ],
      "metadata": {
        "colab": {
          "base_uri": "https://localhost:8080/"
        },
        "id": "kzcgctfvwy6l",
        "outputId": "7ced011b-40a7-4095-f8d5-26d5639043f1"
      },
      "execution_count": null,
      "outputs": [
        {
          "output_type": "stream",
          "name": "stdout",
          "text": [
            "8\n",
            "8\n"
          ]
        }
      ]
    },
    {
      "cell_type": "markdown",
      "source": [
        "##### rstrip(x) - removes the x if it occurs at the end of strings and if x is not there it'll remove the white spaces"
      ],
      "metadata": {
        "id": "yyYMtKv10G8k"
      }
    },
    {
      "cell_type": "code",
      "source": [
        "a = \"Hello World  d  \"\n",
        "print(a.strip()) # removes the whitespaces\n",
        "print(a.strip(\"d  \")) # delete the string from the first occurence of d\n",
        "print(a.strip('v')) # removes nothing\n"
      ],
      "metadata": {
        "colab": {
          "base_uri": "https://localhost:8080/"
        },
        "id": "adYH8Aw4zBBJ",
        "outputId": "ff0b394d-4816-4d06-f7af-0d1590de4757"
      },
      "execution_count": null,
      "outputs": [
        {
          "output_type": "stream",
          "name": "stdout",
          "text": [
            "Hello World  d\n",
            "Hello Worl\n",
            "Hello World  d  \n"
          ]
        }
      ]
    },
    {
      "cell_type": "markdown",
      "source": [
        "##### split(seperator,maxsplit) = returns a list and seperates the string when the seperator occurs, maxsplit is optional and used to limit the splits in strings\n"
      ],
      "metadata": {
        "id": "B5kNuLkw1vla"
      }
    },
    {
      "cell_type": "code",
      "source": [
        "a = \"S loves Chicken\"\n",
        "print(a.split())\n",
        "print(a.split(\"c\")) #splits at 'c' and not at 'C' and removes the 'c' from the string\n",
        "cars = 'BMW-Telsa-Range Rover'\n",
        "print (cars.split(\"-\"))\n",
        "print (cars.split(\"-\",1))"
      ],
      "metadata": {
        "colab": {
          "base_uri": "https://localhost:8080/"
        },
        "id": "mZipQOyw0-89",
        "outputId": "bae9cfbb-c513-4159-d82b-e4dae7860b86"
      },
      "execution_count": null,
      "outputs": [
        {
          "output_type": "stream",
          "name": "stdout",
          "text": [
            "['S', 'loves', 'Chicken']\n",
            "['S loves Chi', 'ken']\n",
            "['BMW', 'Telsa', 'Range Rover']\n",
            "['BMW', 'Telsa-Range Rover']\n"
          ]
        }
      ]
    },
    {
      "cell_type": "markdown",
      "source": [
        "##### startswith() - returns boolean value depending upon the string starts with it or not"
      ],
      "metadata": {
        "id": "ZJovWw_A6U_b"
      }
    },
    {
      "cell_type": "code",
      "source": [
        "print(cars.startswith(\"BMW\"))"
      ],
      "metadata": {
        "colab": {
          "base_uri": "https://localhost:8080/"
        },
        "id": "YIhRrZRS20jE",
        "outputId": "00bf83c2-9c8e-41e7-be05-72dcc8d866bf"
      },
      "execution_count": null,
      "outputs": [
        {
          "output_type": "stream",
          "name": "stdout",
          "text": [
            "True\n"
          ]
        }
      ]
    },
    {
      "cell_type": "markdown",
      "source": [
        "##### isnumeric() - returns boolean value depending upon the string contains all the numeric value or not"
      ],
      "metadata": {
        "id": "RHHtQuNw643B"
      }
    },
    {
      "cell_type": "code",
      "source": [
        "a= \"12345\"\n",
        "b = \"12w3ee4\"\n",
        "print(a.isnumeric())\n",
        "print(b.isnumeric())"
      ],
      "metadata": {
        "colab": {
          "base_uri": "https://localhost:8080/"
        },
        "id": "44wqjr806va4",
        "outputId": "dfd6eee3-c333-4016-8c06-43bfe2685895"
      },
      "execution_count": null,
      "outputs": [
        {
          "output_type": "stream",
          "name": "stdout",
          "text": [
            "True\n",
            "False\n"
          ]
        }
      ]
    },
    {
      "cell_type": "markdown",
      "source": [
        "##### index() -  returns the index of the"
      ],
      "metadata": {
        "id": "kGESURjk7d18"
      }
    },
    {
      "cell_type": "code",
      "source": [
        "text = 'Chess is fun'\n",
        "result = text.index('is')\n",
        "print(result)"
      ],
      "metadata": {
        "id": "g64eGQPB7Osq",
        "colab": {
          "base_uri": "https://localhost:8080/"
        },
        "outputId": "583572b3-3cd6-427f-8068-6ace59aeb65b"
      },
      "execution_count": null,
      "outputs": [
        {
          "output_type": "stream",
          "name": "stdout",
          "text": [
            "6\n"
          ]
        }
      ]
    },
    {
      "cell_type": "markdown",
      "source": [
        "### String Formatting\n"
      ],
      "metadata": {
        "id": "KgtnZXBwvCPT"
      }
    },
    {
      "cell_type": "code",
      "source": [
        "name = 'Yash'\n",
        "country = 'UK'\n",
        "\n",
        "print(f'{name} is from {country}')"
      ],
      "metadata": {
        "colab": {
          "base_uri": "https://localhost:8080/"
        },
        "id": "xsQuvat9vLH6",
        "outputId": "ffd3e3cd-12ef-49ad-ad99-bb86a7baa6ad"
      },
      "execution_count": null,
      "outputs": [
        {
          "output_type": "stream",
          "name": "stdout",
          "text": [
            "Yash is from UK\n"
          ]
        }
      ]
    },
    {
      "cell_type": "markdown",
      "source": [
        "### Escape Sequence - used to escape some of the characters present inside a string."
      ],
      "metadata": {
        "id": "Vc6s7ZSvvyrj"
      }
    },
    {
      "cell_type": "code",
      "source": [
        "example = \"He said, \"What's there?\"\"\n",
        "print(example) # throws error"
      ],
      "metadata": {
        "colab": {
          "base_uri": "https://localhost:8080/",
          "height": 140
        },
        "id": "Tj0zzEpLvP_R",
        "outputId": "5fa47084-a2fd-411b-8d5d-00cd7c4c2a91"
      },
      "execution_count": null,
      "outputs": [
        {
          "output_type": "error",
          "ename": "SyntaxError",
          "evalue": "ignored",
          "traceback": [
            "\u001b[0;36m  File \u001b[0;32m\"<ipython-input-3-46de9489792d>\"\u001b[0;36m, line \u001b[0;32m1\u001b[0m\n\u001b[0;31m    example = \"He said, \"What's there?\"\"\u001b[0m\n\u001b[0m                             ^\u001b[0m\n\u001b[0;31mSyntaxError\u001b[0m\u001b[0;31m:\u001b[0m unterminated string literal (detected at line 1)\n"
          ]
        }
      ]
    },
    {
      "cell_type": "code",
      "source": [
        "example = \"He said, \\\"What's there?\\\"\"\n",
        "print (example)\n",
        "example = 'He said, \"What\\'s there?\"'\n",
        "print(example)\n"
      ],
      "metadata": {
        "colab": {
          "base_uri": "https://localhost:8080/"
        },
        "id": "eHmI_smtxWYd",
        "outputId": "76f5d5da-0854-4b74-bd3f-1d9f988f63d9"
      },
      "execution_count": null,
      "outputs": [
        {
          "output_type": "stream",
          "name": "stdout",
          "text": [
            "He said, \"What's there?\"\n",
            "He said, \"What's there?\"\n"
          ]
        }
      ]
    },
    {
      "cell_type": "code",
      "source": [],
      "metadata": {
        "id": "1U8rIWqmxhmh"
      },
      "execution_count": null,
      "outputs": []
    }
  ]
}