{
  "nbformat": 4,
  "nbformat_minor": 0,
  "metadata": {
    "colab": {
      "provenance": [],
      "authorship_tag": "ABX9TyOFnV8Uvx7OTZwKkT/vN73/",
      "include_colab_link": true
    },
    "kernelspec": {
      "name": "python3",
      "display_name": "Python 3"
    },
    "language_info": {
      "name": "python"
    }
  },
  "cells": [
    {
      "cell_type": "markdown",
      "metadata": {
        "id": "view-in-github",
        "colab_type": "text"
      },
      "source": [
        "<a href=\"https://colab.research.google.com/github/Yash0082/IGurus/blob/main/Task3.ipynb\" target=\"_parent\"><img src=\"https://colab.research.google.com/assets/colab-badge.svg\" alt=\"Open In Colab\"/></a>"
      ]
    },
    {
      "cell_type": "markdown",
      "source": [
        "# Python Inheritance\n",
        "### Inheritance allows us to create a new class from an existing class.\n",
        "*   The new class that is created is known as subclass (child or derived class) and the existing class from which the child class is derived is known as superclass (parent or base class)."
      ],
      "metadata": {
        "id": "RqbsRaLkySvS"
      }
    },
    {
      "cell_type": "code",
      "source": [
        "class Animal:\n",
        "    name = \" \"\n",
        "    def eat(self):\n",
        "        print(\"I can eat\")\n",
        "class Cat(Animal):\n",
        "    def display(self):\n",
        "        print(\"My name is \", self.name)\n",
        "\n",
        "Persian = Cat()\n",
        "Persian.name = \"snowbell\"\n",
        "Persian.eat()\n",
        "Persian.display()"
      ],
      "metadata": {
        "colab": {
          "base_uri": "https://localhost:8080/"
        },
        "id": "RoyjftClyjUA",
        "outputId": "722f387e-ceb5-4500-ace8-8ce83dcbd221"
      },
      "execution_count": null,
      "outputs": [
        {
          "output_type": "stream",
          "name": "stdout",
          "text": [
            "I can eat\n",
            "My name is  snowbell\n"
          ]
        }
      ]
    },
    {
      "cell_type": "code",
      "source": [
        "class Polygon:\n",
        "    def __init__(self, no_of_sides):\n",
        "        self.n = no_of_sides\n",
        "        self.sides = [0 for i in range(no_of_sides)]\n",
        "    def inputSides(self):\n",
        "        self.sides = [float(input(\"Enter side \"+str(i+1)+\" : \")) for i in range(self.n)] #initializing the values of sides\n",
        "\n",
        "    def dispSides(self):\n",
        "        for i in range(self.n):\n",
        "            print(\"Side\",i+1,\"is\",self.sides[i])\n",
        "\n",
        "Rhombus = Polygon(4)\n",
        "Rhombus.inputSides()\n",
        "Rhombus.dispSides()\n"
      ],
      "metadata": {
        "id": "H5LY_OoO0g-8",
        "colab": {
          "base_uri": "https://localhost:8080/"
        },
        "outputId": "1bc18876-3730-49bd-b0fb-138a9668a1e3"
      },
      "execution_count": null,
      "outputs": [
        {
          "output_type": "stream",
          "name": "stdout",
          "text": [
            "Enter side 1 : 5\n",
            "Enter side 2 : 7\n",
            "Enter side 3 : 8\n",
            "Enter side 4 : 9\n",
            "Side 1 is 5.0\n",
            "Side 2 is 7.0\n",
            "Side 3 is 8.0\n",
            "Side 4 is 9.0\n"
          ]
        }
      ]
    },
    {
      "cell_type": "code",
      "source": [
        "class Square(Polygon):\n",
        "    def __init__(self):\n",
        "        Polygon.__init__(self,4)\n",
        "\n",
        "    def inputSides(self):\n",
        "        side_value = float(input(\"Enter the side length for the square: \"))\n",
        "        self.sides = [side_value] * 4\n",
        "\n",
        "    def findArea(self):\n",
        "        a, b, c, d = self.sides\n",
        "        area = a*a\n",
        "        print('The area of the Square is %f' %area)\n",
        "        print('The area of the Square is %0.2f' %area)\n",
        "a1 = Square()\n",
        "a1.inputSides()\n",
        "a1.dispSides()\n",
        "a1.findArea()"
      ],
      "metadata": {
        "colab": {
          "base_uri": "https://localhost:8080/"
        },
        "id": "Piu0e2M-jG-M",
        "outputId": "04678ef8-857e-4893-d989-1607ed613237"
      },
      "execution_count": null,
      "outputs": [
        {
          "output_type": "stream",
          "name": "stdout",
          "text": [
            "Enter the side length for the square: 6\n",
            "Side 1 is 6.0\n",
            "Side 2 is 6.0\n",
            "Side 3 is 6.0\n",
            "Side 4 is 6.0\n",
            "The area of the Square is 36.000000\n",
            "The area of the Square is 36.00\n"
          ]
        }
      ]
    },
    {
      "cell_type": "markdown",
      "source": [
        "# Method Overriding\n",
        "\n",
        "*    the method in the subclass overrides the method in the superclass"
      ],
      "metadata": {
        "id": "VScqnnCgrfL5"
      }
    },
    {
      "cell_type": "code",
      "source": [
        "class Animal:\n",
        "    # attributes of the parent class\n",
        "    name = \"\"\n",
        "    # method of the parent class\n",
        "    def eat(self):\n",
        "        print(\"I can eat\")\n",
        "\n",
        "\n",
        "# inherit from Animal\n",
        "class Cat(Animal):\n",
        "    # override eat() method\n",
        "    def eat(self):\n",
        "        print(\"I like to eat fish\")\n",
        "# create an object of the subclass\n",
        "stray = Cat()\n",
        "# call the eat() method on the stray object\n",
        "stray.eat()"
      ],
      "metadata": {
        "colab": {
          "base_uri": "https://localhost:8080/"
        },
        "id": "kn5xEXvXmtXy",
        "outputId": "72f2f087-2438-4bfe-d05b-0c3594d5b90e"
      },
      "execution_count": null,
      "outputs": [
        {
          "output_type": "stream",
          "name": "stdout",
          "text": [
            "I like to eat fish\n"
          ]
        }
      ]
    },
    {
      "cell_type": "markdown",
      "source": [
        "### However, if we need to access the superclass method from the subclass, we use the `super()` method"
      ],
      "metadata": {
        "id": "h5oyv3Aes8Zw"
      }
    },
    {
      "cell_type": "code",
      "source": [
        "class Animal:\n",
        "    name = \" \"\n",
        "    def eat(self):\n",
        "        print(\"I can eat\")\n",
        "class Cat(Animal):\n",
        "    def eat(self):\n",
        "        super().eat()\n",
        "        print(\"I like to eat cat food\")\n",
        "\n",
        "Persian = Cat()\n",
        "Persian.name = \"snowbell\"\n",
        "Persian.eat()\n"
      ],
      "metadata": {
        "colab": {
          "base_uri": "https://localhost:8080/"
        },
        "id": "E71HejtbsaO4",
        "outputId": "bd41e0e1-c716-4492-feb9-24a2182c68a0"
      },
      "execution_count": null,
      "outputs": [
        {
          "output_type": "stream",
          "name": "stdout",
          "text": [
            "I can eat\n",
            "I like to eat cat food\n"
          ]
        }
      ]
    },
    {
      "cell_type": "markdown",
      "source": [
        "# Python Multiple Inheritance\n",
        "*   ### A class can be derived from more than one superclass in Python. This is called multiple inheritance.\n"
      ],
      "metadata": {
        "id": "UiUud7HKI1qZ"
      }
    },
    {
      "cell_type": "code",
      "source": [
        "class Mammal:\n",
        "    def mammal_info(self):\n",
        "        print(\"Mammals can give direct birth.\")\n",
        "\n",
        "class WingedAnimal:\n",
        "    def winged_animal_info(self):\n",
        "        print(\"Winged animals can flap.\")\n",
        "\n",
        "class Bat(Mammal, WingedAnimal):\n",
        "    pass\n",
        "\n",
        "b1 = Bat()\n",
        "\n",
        "b1.mammal_info()\n",
        "b1.winged_animal_info()"
      ],
      "metadata": {
        "id": "poM6MnqtzXL0",
        "colab": {
          "base_uri": "https://localhost:8080/"
        },
        "outputId": "5b4de3d3-5bc6-4a0e-fc5e-7146dcf570f6"
      },
      "execution_count": null,
      "outputs": [
        {
          "output_type": "stream",
          "name": "stdout",
          "text": [
            "Mammals can give direct birth.\n",
            "Winged animals can flap.\n"
          ]
        }
      ]
    },
    {
      "cell_type": "markdown",
      "source": [
        "# Python Multilevel Inheritance\n",
        "*   ## When we make derived class from the derived class which is derived from super class\n",
        "\n",
        "   *   ### Super Class ==> Derived Class1 ==> Derived Class2"
      ],
      "metadata": {
        "id": "ktsLHaTtJu9D"
      }
    },
    {
      "cell_type": "code",
      "source": [
        "class SuperClass:\n",
        "    def super_method(self):\n",
        "        print(\"Super Class method called\")\n",
        "\n",
        "class DerivedClass1(SuperClass):\n",
        "    def derived1_method(self):\n",
        "        print(\"Derived class 1 method called\")\n",
        "\n",
        "class DerivedClass2(DerivedClass1):\n",
        "    def derived2_method(self):\n",
        "        print(\"Derived class 2 method\")\n",
        "\n",
        "d2 = DerivedClass2()\n",
        "\n",
        "d2.super_method()  # Output: \"Super Class method called\"\n",
        "\n",
        "d2.derived1_method()  # Output: \"Derived class 1 method called\"\n",
        "\n",
        "d2.derived2_method()  # Output: \"Derived class 2 method called\""
      ],
      "metadata": {
        "colab": {
          "base_uri": "https://localhost:8080/"
        },
        "id": "UHO5Dq1vKpq0",
        "outputId": "0db18ab2-a7a2-4358-ccbf-5e8ca1debb3c"
      },
      "execution_count": null,
      "outputs": [
        {
          "output_type": "stream",
          "name": "stdout",
          "text": [
            "Super Class method called\n",
            "Derived class 1 method called\n",
            "Derived class 2 method\n"
          ]
        }
      ]
    },
    {
      "cell_type": "markdown",
      "source": [
        "# Method Resolution Order (MRO) in Python\n",
        "*   ### If two superclasses have the same method name and the derived class calls that method, Python uses the MRO to search for the right method to call."
      ],
      "metadata": {
        "id": "RyIZIxalLk39"
      }
    },
    {
      "cell_type": "code",
      "source": [
        "class Best_friend:\n",
        "    def share(self):\n",
        "        print(\"You can share anything to best friend\")\n",
        "\n",
        "class Girl_Friend:\n",
        "    def share(self):\n",
        "        print(\"You can share anything to girl friend\")\n",
        "\n",
        "class Man(Best_friend, Girl_Friend):\n",
        "    pass\n",
        "\n",
        "Problem = Man()\n",
        "Problem.share()"
      ],
      "metadata": {
        "colab": {
          "base_uri": "https://localhost:8080/"
        },
        "id": "PMRGRKYVLAkA",
        "outputId": "65e83c12-5ea9-4223-9760-546004ed38a5"
      },
      "execution_count": null,
      "outputs": [
        {
          "output_type": "stream",
          "name": "stdout",
          "text": [
            "You can share anything to best friend\n"
          ]
        }
      ]
    },
    {
      "cell_type": "code",
      "source": [],
      "metadata": {
        "id": "WQ-keR1uM1BW"
      },
      "execution_count": null,
      "outputs": []
    }
  ]
}