{
  "nbformat": 4,
  "nbformat_minor": 0,
  "metadata": {
    "colab": {
      "provenance": [],
      "authorship_tag": "ABX9TyMOGobpCHD2Bo/bnsOO0BRc",
      "include_colab_link": true
    },
    "kernelspec": {
      "name": "python3",
      "display_name": "Python 3"
    },
    "language_info": {
      "name": "python"
    }
  },
  "cells": [
    {
      "cell_type": "markdown",
      "metadata": {
        "id": "view-in-github",
        "colab_type": "text"
      },
      "source": [
        "<a href=\"https://colab.research.google.com/github/Yash0082/IGurus/blob/main/Task4.ipynb\" target=\"_parent\"><img src=\"https://colab.research.google.com/assets/colab-badge.svg\" alt=\"Open In Colab\"/></a>"
      ]
    },
    {
      "cell_type": "markdown",
      "source": [
        "# **Yash Adagale**"
      ],
      "metadata": {
        "id": "gVqDFH7mYht-"
      }
    },
    {
      "cell_type": "markdown",
      "source": [
        "# NumPy array:\n",
        "*   ### 1.Elements of an array are stored contiguously in memory.\n",
        "*   ### 2.The array is by default Homogeneous {same Datatype}.\n",
        "*   ### 3.Element-wise operation is possible."
      ],
      "metadata": {
        "id": "Ddw8g_8Thdr3"
      }
    },
    {
      "cell_type": "code",
      "source": [
        "import numpy as np"
      ],
      "metadata": {
        "id": "cZNTmK6Gh-ad"
      },
      "execution_count": null,
      "outputs": []
    },
    {
      "cell_type": "code",
      "source": [
        "a = np.array([1, 2, 3])     #Single Dimensional Numpy Array\n",
        "print(a,\"\\n\")\n",
        "\n",
        "a = np.array([(1, 2, 3), (4, 5, 6)])  # Multi Dimensional Numpy Array\n",
        "print(a,\"\\n\")"
      ],
      "metadata": {
        "colab": {
          "base_uri": "https://localhost:8080/"
        },
        "id": "mgwt8-BQh42u",
        "outputId": "71708e4b-95ff-451f-cbba-ed76cd2044d9"
      },
      "execution_count": null,
      "outputs": [
        {
          "output_type": "stream",
          "name": "stdout",
          "text": [
            "[1 2 3] \n",
            "\n",
            "[[1 2 3]\n",
            " [4 5 6]] \n",
            "\n"
          ]
        }
      ]
    },
    {
      "cell_type": "markdown",
      "source": [
        "# Python List\n",
        "* ### 1.The list can be homogeneous or heterogeneous.\n",
        "* ### 2.Element-wise operation is not possible on the list.\n",
        "* ### 3.Elements of a list need not be contiguous in memory.\n",
        "* ### 4.dimension of list is 1D by default, n-D list are created that is 1D list in another 1D list"
      ],
      "metadata": {
        "id": "bXKcbQB1nbWB"
      }
    },
    {
      "cell_type": "code",
      "source": [
        "l = [\"A\", \"B\", \"C\", \"D\"]\n",
        "print(l)"
      ],
      "metadata": {
        "colab": {
          "base_uri": "https://localhost:8080/"
        },
        "id": "xrwaos_IiJ5G",
        "outputId": "e4df59a5-67b0-49af-da5a-97734c724e45"
      },
      "execution_count": null,
      "outputs": [
        {
          "output_type": "stream",
          "name": "stdout",
          "text": [
            "['A', 'B', 'C', 'D']\n"
          ]
        }
      ]
    },
    {
      "cell_type": "code",
      "source": [
        "import sys\n",
        "S= range(1000)\n",
        "\n",
        "print(\"Size of each element of list in bytes: \",sys.getsizeof(S))\n",
        "\n",
        "print(\"Size of the whole list in bytes: \",sys.getsizeof(S)*len(S))\n",
        "\n",
        "D= np.arange(1000)\n",
        "\n",
        "print(\"Size of each element of the Numpy array in bytes: \",D.itemsize)\n",
        "\n",
        "print(\"Size of the whole Numpy array in bytes: \",D.size*D.itemsize)"
      ],
      "metadata": {
        "colab": {
          "base_uri": "https://localhost:8080/"
        },
        "id": "O2tDELWxoLM9",
        "outputId": "6d137a7b-2e2b-4d5e-fd22-969aac637c06"
      },
      "execution_count": null,
      "outputs": [
        {
          "output_type": "stream",
          "name": "stdout",
          "text": [
            "Size of each element of list in bytes:  48\n",
            "Size of the whole list in bytes:  48000\n",
            "Size of each element of the Numpy array in bytes:  8\n",
            "Size of the whole Numpy array in bytes:  8000\n"
          ]
        }
      ]
    },
    {
      "cell_type": "code",
      "source": [
        "import time\n",
        "\n",
        "size = 1000000\n",
        "\n",
        "list1 = range(size)\n",
        "list2 = range(size)\n",
        "\n",
        "array1 = np.arange(size)\n",
        "array2 = np.arange(size)\n",
        "\n",
        "initialTime = time.time()\n",
        "\n",
        "resultantList = [(a * b) for a, b in zip(list1, list2)]\n",
        "\n",
        "print(\"Time taken by Lists to perform multiplication:\",\n",
        "\t(time.time() - initialTime),\n",
        "\t\"seconds\")\n",
        "\n",
        "initialTime = time.time()\n",
        "\n",
        "resultantArray = array1 * array2\n",
        "\n",
        "print(\"Time taken by NumPy Arrays to perform multiplication:\",\n",
        "\t(time.time() - initialTime),\n",
        "\t\"seconds\")\n"
      ],
      "metadata": {
        "colab": {
          "base_uri": "https://localhost:8080/"
        },
        "id": "_6nRrlFaoXzT",
        "outputId": "f13c6be2-800b-4b21-a357-36b621125d2d"
      },
      "execution_count": null,
      "outputs": [
        {
          "output_type": "stream",
          "name": "stdout",
          "text": [
            "Time taken by Lists to perform multiplication: 0.3286709785461426 seconds\n",
            "Time taken by NumPy Arrays to perform multiplication: 0.01708984375 seconds\n"
          ]
        }
      ]
    },
    {
      "cell_type": "code",
      "source": [
        "ls =[1, 2, 3]\n",
        "\n",
        "arr = np.array(ls)\n",
        "\n",
        "try:\n",
        "\tls = ls + 4\n",
        "\n",
        "except(TypeError):\n",
        "\tprint(\"Lists don't support list + int\")\n",
        "\n",
        "try:\n",
        "\tarr = arr + 4\n",
        "\tprint(\"Modified Numpy array: \",arr)\n",
        "\n",
        "except(TypeError):\n",
        "\tprint(\"Numpy arrays don't support list + int\")\n"
      ],
      "metadata": {
        "id": "IMGXJxMdogLT",
        "outputId": "ece7d683-bd73-49f4-cbce-a4bb462fd0ef",
        "colab": {
          "base_uri": "https://localhost:8080/"
        }
      },
      "execution_count": null,
      "outputs": [
        {
          "output_type": "stream",
          "name": "stdout",
          "text": [
            "Lists don't support list + int\n",
            "Modified Numpy array:  [5 6 7]\n"
          ]
        }
      ]
    },
    {
      "cell_type": "code",
      "source": [],
      "metadata": {
        "id": "fVfpRx8iojC6"
      },
      "execution_count": null,
      "outputs": []
    }
  ]
}